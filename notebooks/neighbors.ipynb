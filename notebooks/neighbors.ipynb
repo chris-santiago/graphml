{
 "cells": [
  {
   "cell_type": "code",
   "execution_count": 7,
   "id": "1ef66d47-3a12-42c2-b468-d56853696b32",
   "metadata": {},
   "outputs": [],
   "source": [
    "import pandas as pd\n",
    "from sklearn.preprocessing import StandardScaler\n",
    "from sklearn.pipeline import Pipeline\n",
    "from sklearn.neighbors import NearestNeighbors\n",
    "\n",
    "import graphml.constants"
   ]
  },
  {
   "cell_type": "code",
   "execution_count": 2,
   "id": "0712f530-7988-44ab-8863-3a78a81de529",
   "metadata": {},
   "outputs": [],
   "source": [
    "constants = graphml.constants.Constants()"
   ]
  },
  {
   "cell_type": "code",
   "execution_count": 3,
   "id": "d3042d4c-042b-4d64-a205-eea494d93b3b",
   "metadata": {},
   "outputs": [
    {
     "name": "stderr",
     "output_type": "stream",
     "text": [
      "/var/folders/0p/18prqvyd5kd_xr2h6whgkm600000gn/T/ipykernel_75942/2024754465.py:2: DtypeWarning: Columns (0) have mixed types. Specify dtype option on import or set low_memory=False.\n",
      "  data = pd.read_csv(file)\n"
     ]
    }
   ],
   "source": [
    "file = constants.DATA.joinpath('embed_cites_umap.csv.gz')\n",
    "data = pd.read_csv(file)"
   ]
  },
  {
   "cell_type": "code",
   "execution_count": 4,
   "id": "6e37f8ff-bdf7-4f9f-8926-59838ef5bf9f",
   "metadata": {},
   "outputs": [
    {
     "data": {
      "text/html": [
       "<div>\n",
       "<style scoped>\n",
       "    .dataframe tbody tr th:only-of-type {\n",
       "        vertical-align: middle;\n",
       "    }\n",
       "\n",
       "    .dataframe tbody tr th {\n",
       "        vertical-align: top;\n",
       "    }\n",
       "\n",
       "    .dataframe thead th {\n",
       "        text-align: right;\n",
       "    }\n",
       "</style>\n",
       "<table border=\"1\" class=\"dataframe\">\n",
       "  <thead>\n",
       "    <tr style=\"text-align: right;\">\n",
       "      <th></th>\n",
       "      <th>docId</th>\n",
       "      <th>title</th>\n",
       "      <th>category</th>\n",
       "      <th>embed[].0</th>\n",
       "      <th>embed[].1</th>\n",
       "      <th>embed[].2</th>\n",
       "      <th>embed[].3</th>\n",
       "      <th>embed[].4</th>\n",
       "      <th>embed[].5</th>\n",
       "      <th>embed[].6</th>\n",
       "      <th>...</th>\n",
       "      <th>umap_1</th>\n",
       "      <th>umap_2</th>\n",
       "      <th>umap_3</th>\n",
       "      <th>umap_4</th>\n",
       "      <th>umap_5</th>\n",
       "      <th>umap_6</th>\n",
       "      <th>umap_7</th>\n",
       "      <th>umap_8</th>\n",
       "      <th>umap_9</th>\n",
       "      <th>cluster_labels</th>\n",
       "    </tr>\n",
       "  </thead>\n",
       "  <tbody>\n",
       "    <tr>\n",
       "      <th>0</th>\n",
       "      <td>704.0302</td>\n",
       "      <td>Spline Single-Index Prediction Model</td>\n",
       "      <td>stat.TH</td>\n",
       "      <td>0.000461</td>\n",
       "      <td>-0.001192</td>\n",
       "      <td>-0.003083</td>\n",
       "      <td>0.002297</td>\n",
       "      <td>-0.003558</td>\n",
       "      <td>-0.000685</td>\n",
       "      <td>-0.000624</td>\n",
       "      <td>...</td>\n",
       "      <td>5.031054</td>\n",
       "      <td>4.187748</td>\n",
       "      <td>3.858944</td>\n",
       "      <td>5.631053</td>\n",
       "      <td>4.896350</td>\n",
       "      <td>4.891944</td>\n",
       "      <td>5.386610</td>\n",
       "      <td>4.733177</td>\n",
       "      <td>4.506786</td>\n",
       "      <td>3</td>\n",
       "    </tr>\n",
       "    <tr>\n",
       "      <th>1</th>\n",
       "      <td>704.0326</td>\n",
       "      <td>On generalized entropy measures and pathways</td>\n",
       "      <td>stat.TH</td>\n",
       "      <td>0.000460</td>\n",
       "      <td>0.000133</td>\n",
       "      <td>0.001372</td>\n",
       "      <td>0.000597</td>\n",
       "      <td>-0.000666</td>\n",
       "      <td>-0.003240</td>\n",
       "      <td>0.003895</td>\n",
       "      <td>...</td>\n",
       "      <td>4.191865</td>\n",
       "      <td>3.565738</td>\n",
       "      <td>3.536421</td>\n",
       "      <td>5.208500</td>\n",
       "      <td>5.306760</td>\n",
       "      <td>4.914432</td>\n",
       "      <td>5.471216</td>\n",
       "      <td>5.011545</td>\n",
       "      <td>5.026620</td>\n",
       "      <td>3</td>\n",
       "    </tr>\n",
       "    <tr>\n",
       "      <th>2</th>\n",
       "      <td>704.0329</td>\n",
       "      <td>Solutions of fractional reaction-diffusion equ...</td>\n",
       "      <td>stat.TH</td>\n",
       "      <td>0.000457</td>\n",
       "      <td>-0.001057</td>\n",
       "      <td>0.000212</td>\n",
       "      <td>-0.000096</td>\n",
       "      <td>-0.001830</td>\n",
       "      <td>-0.000393</td>\n",
       "      <td>0.003056</td>\n",
       "      <td>...</td>\n",
       "      <td>4.361795</td>\n",
       "      <td>3.832480</td>\n",
       "      <td>4.358634</td>\n",
       "      <td>4.799599</td>\n",
       "      <td>4.438835</td>\n",
       "      <td>4.226096</td>\n",
       "      <td>5.579476</td>\n",
       "      <td>5.365624</td>\n",
       "      <td>4.456157</td>\n",
       "      <td>3</td>\n",
       "    </tr>\n",
       "    <tr>\n",
       "      <th>3</th>\n",
       "      <td>704.0517</td>\n",
       "      <td>Using decomposed household food acquisitions a...</td>\n",
       "      <td>stat.TH</td>\n",
       "      <td>0.000456</td>\n",
       "      <td>0.000268</td>\n",
       "      <td>-0.003145</td>\n",
       "      <td>-0.001797</td>\n",
       "      <td>0.001063</td>\n",
       "      <td>-0.002948</td>\n",
       "      <td>-0.000237</td>\n",
       "      <td>...</td>\n",
       "      <td>4.561526</td>\n",
       "      <td>3.591063</td>\n",
       "      <td>3.765388</td>\n",
       "      <td>4.994739</td>\n",
       "      <td>4.817182</td>\n",
       "      <td>5.429080</td>\n",
       "      <td>5.013913</td>\n",
       "      <td>5.303919</td>\n",
       "      <td>5.579634</td>\n",
       "      <td>3</td>\n",
       "    </tr>\n",
       "    <tr>\n",
       "      <th>4</th>\n",
       "      <td>704.0539</td>\n",
       "      <td>Integral representations for convolutions of n...</td>\n",
       "      <td>stat.TH</td>\n",
       "      <td>0.000458</td>\n",
       "      <td>-0.003706</td>\n",
       "      <td>-0.000887</td>\n",
       "      <td>0.003306</td>\n",
       "      <td>0.000198</td>\n",
       "      <td>-0.003094</td>\n",
       "      <td>0.001829</td>\n",
       "      <td>...</td>\n",
       "      <td>4.325488</td>\n",
       "      <td>4.465783</td>\n",
       "      <td>3.791301</td>\n",
       "      <td>4.735166</td>\n",
       "      <td>4.612527</td>\n",
       "      <td>4.527419</td>\n",
       "      <td>5.011487</td>\n",
       "      <td>4.712466</td>\n",
       "      <td>5.127670</td>\n",
       "      <td>3</td>\n",
       "    </tr>\n",
       "  </tbody>\n",
       "</table>\n",
       "<p>5 rows × 144 columns</p>\n",
       "</div>"
      ],
      "text/plain": [
       "      docId                                              title category  \\\n",
       "0  704.0302               Spline Single-Index Prediction Model  stat.TH   \n",
       "1  704.0326       On generalized entropy measures and pathways  stat.TH   \n",
       "2  704.0329  Solutions of fractional reaction-diffusion equ...  stat.TH   \n",
       "3  704.0517  Using decomposed household food acquisitions a...  stat.TH   \n",
       "4  704.0539  Integral representations for convolutions of n...  stat.TH   \n",
       "\n",
       "   embed[].0  embed[].1  embed[].2  embed[].3  embed[].4  embed[].5  \\\n",
       "0   0.000461  -0.001192  -0.003083   0.002297  -0.003558  -0.000685   \n",
       "1   0.000460   0.000133   0.001372   0.000597  -0.000666  -0.003240   \n",
       "2   0.000457  -0.001057   0.000212  -0.000096  -0.001830  -0.000393   \n",
       "3   0.000456   0.000268  -0.003145  -0.001797   0.001063  -0.002948   \n",
       "4   0.000458  -0.003706  -0.000887   0.003306   0.000198  -0.003094   \n",
       "\n",
       "   embed[].6  ...    umap_1    umap_2    umap_3    umap_4    umap_5    umap_6  \\\n",
       "0  -0.000624  ...  5.031054  4.187748  3.858944  5.631053  4.896350  4.891944   \n",
       "1   0.003895  ...  4.191865  3.565738  3.536421  5.208500  5.306760  4.914432   \n",
       "2   0.003056  ...  4.361795  3.832480  4.358634  4.799599  4.438835  4.226096   \n",
       "3  -0.000237  ...  4.561526  3.591063  3.765388  4.994739  4.817182  5.429080   \n",
       "4   0.001829  ...  4.325488  4.465783  3.791301  4.735166  4.612527  4.527419   \n",
       "\n",
       "     umap_7    umap_8    umap_9  cluster_labels  \n",
       "0  5.386610  4.733177  4.506786               3  \n",
       "1  5.471216  5.011545  5.026620               3  \n",
       "2  5.579476  5.365624  4.456157               3  \n",
       "3  5.013913  5.303919  5.579634               3  \n",
       "4  5.011487  4.712466  5.127670               3  \n",
       "\n",
       "[5 rows x 144 columns]"
      ]
     },
     "execution_count": 4,
     "metadata": {},
     "output_type": "execute_result"
    }
   ],
   "source": [
    "data.head()"
   ]
  },
  {
   "cell_type": "code",
   "execution_count": 30,
   "id": "1f9abd0a-bc05-457b-a45f-0c287e6ced24",
   "metadata": {},
   "outputs": [],
   "source": [
    "node2vec_cols = [c for c in data.columns if 'embed[]' in c]\n",
    "umap_cols = [c for c in data.columns if 'umap' in c]"
   ]
  },
  {
   "cell_type": "markdown",
   "id": "7a49a958-1e3c-4814-b566-d21724ebd1b2",
   "metadata": {},
   "source": [
    "## Using 128 Dimensions from Node2Vec"
   ]
  },
  {
   "cell_type": "code",
   "execution_count": 56,
   "id": "133958ad-c991-4993-962f-06dd33a374de",
   "metadata": {},
   "outputs": [
    {
     "data": {
      "text/html": [
       "<style>#sk-container-id-8 {color: black;background-color: white;}#sk-container-id-8 pre{padding: 0;}#sk-container-id-8 div.sk-toggleable {background-color: white;}#sk-container-id-8 label.sk-toggleable__label {cursor: pointer;display: block;width: 100%;margin-bottom: 0;padding: 0.3em;box-sizing: border-box;text-align: center;}#sk-container-id-8 label.sk-toggleable__label-arrow:before {content: \"▸\";float: left;margin-right: 0.25em;color: #696969;}#sk-container-id-8 label.sk-toggleable__label-arrow:hover:before {color: black;}#sk-container-id-8 div.sk-estimator:hover label.sk-toggleable__label-arrow:before {color: black;}#sk-container-id-8 div.sk-toggleable__content {max-height: 0;max-width: 0;overflow: hidden;text-align: left;background-color: #f0f8ff;}#sk-container-id-8 div.sk-toggleable__content pre {margin: 0.2em;color: black;border-radius: 0.25em;background-color: #f0f8ff;}#sk-container-id-8 input.sk-toggleable__control:checked~div.sk-toggleable__content {max-height: 200px;max-width: 100%;overflow: auto;}#sk-container-id-8 input.sk-toggleable__control:checked~label.sk-toggleable__label-arrow:before {content: \"▾\";}#sk-container-id-8 div.sk-estimator input.sk-toggleable__control:checked~label.sk-toggleable__label {background-color: #d4ebff;}#sk-container-id-8 div.sk-label input.sk-toggleable__control:checked~label.sk-toggleable__label {background-color: #d4ebff;}#sk-container-id-8 input.sk-hidden--visually {border: 0;clip: rect(1px 1px 1px 1px);clip: rect(1px, 1px, 1px, 1px);height: 1px;margin: -1px;overflow: hidden;padding: 0;position: absolute;width: 1px;}#sk-container-id-8 div.sk-estimator {font-family: monospace;background-color: #f0f8ff;border: 1px dotted black;border-radius: 0.25em;box-sizing: border-box;margin-bottom: 0.5em;}#sk-container-id-8 div.sk-estimator:hover {background-color: #d4ebff;}#sk-container-id-8 div.sk-parallel-item::after {content: \"\";width: 100%;border-bottom: 1px solid gray;flex-grow: 1;}#sk-container-id-8 div.sk-label:hover label.sk-toggleable__label {background-color: #d4ebff;}#sk-container-id-8 div.sk-serial::before {content: \"\";position: absolute;border-left: 1px solid gray;box-sizing: border-box;top: 0;bottom: 0;left: 50%;z-index: 0;}#sk-container-id-8 div.sk-serial {display: flex;flex-direction: column;align-items: center;background-color: white;padding-right: 0.2em;padding-left: 0.2em;position: relative;}#sk-container-id-8 div.sk-item {position: relative;z-index: 1;}#sk-container-id-8 div.sk-parallel {display: flex;align-items: stretch;justify-content: center;background-color: white;position: relative;}#sk-container-id-8 div.sk-item::before, #sk-container-id-8 div.sk-parallel-item::before {content: \"\";position: absolute;border-left: 1px solid gray;box-sizing: border-box;top: 0;bottom: 0;left: 50%;z-index: -1;}#sk-container-id-8 div.sk-parallel-item {display: flex;flex-direction: column;z-index: 1;position: relative;background-color: white;}#sk-container-id-8 div.sk-parallel-item:first-child::after {align-self: flex-end;width: 50%;}#sk-container-id-8 div.sk-parallel-item:last-child::after {align-self: flex-start;width: 50%;}#sk-container-id-8 div.sk-parallel-item:only-child::after {width: 0;}#sk-container-id-8 div.sk-dashed-wrapped {border: 1px dashed gray;margin: 0 0.4em 0.5em 0.4em;box-sizing: border-box;padding-bottom: 0.4em;background-color: white;}#sk-container-id-8 div.sk-label label {font-family: monospace;font-weight: bold;display: inline-block;line-height: 1.2em;}#sk-container-id-8 div.sk-label-container {text-align: center;}#sk-container-id-8 div.sk-container {/* jupyter's `normalize.less` sets `[hidden] { display: none; }` but bootstrap.min.css set `[hidden] { display: none !important; }` so we also need the `!important` here to be able to override the default hidden behavior on the sphinx rendered scikit-learn.org. See: https://github.com/scikit-learn/scikit-learn/issues/21755 */display: inline-block !important;position: relative;}#sk-container-id-8 div.sk-text-repr-fallback {display: none;}</style><div id=\"sk-container-id-8\" class=\"sk-top-container\"><div class=\"sk-text-repr-fallback\"><pre>NearestNeighbors(n_neighbors=20)</pre><b>In a Jupyter environment, please rerun this cell to show the HTML representation or trust the notebook. <br />On GitHub, the HTML representation is unable to render, please try loading this page with nbviewer.org.</b></div><div class=\"sk-container\" hidden><div class=\"sk-item\"><div class=\"sk-estimator sk-toggleable\"><input class=\"sk-toggleable__control sk-hidden--visually\" id=\"sk-estimator-id-10\" type=\"checkbox\" checked><label for=\"sk-estimator-id-10\" class=\"sk-toggleable__label sk-toggleable__label-arrow\">NearestNeighbors</label><div class=\"sk-toggleable__content\"><pre>NearestNeighbors(n_neighbors=20)</pre></div></div></div></div></div>"
      ],
      "text/plain": [
       "NearestNeighbors(n_neighbors=20)"
      ]
     },
     "execution_count": 56,
     "metadata": {},
     "output_type": "execute_result"
    }
   ],
   "source": [
    "rec = NearestNeighbors(n_neighbors=20)\n",
    "rec.fit(data.loc[:, node2vec_cols])"
   ]
  },
  {
   "cell_type": "code",
   "execution_count": 57,
   "id": "709d312f-9a2e-41a5-b19c-2416f7e7df83",
   "metadata": {},
   "outputs": [
    {
     "data": {
      "text/html": [
       "<div>\n",
       "<style scoped>\n",
       "    .dataframe tbody tr th:only-of-type {\n",
       "        vertical-align: middle;\n",
       "    }\n",
       "\n",
       "    .dataframe tbody tr th {\n",
       "        vertical-align: top;\n",
       "    }\n",
       "\n",
       "    .dataframe thead th {\n",
       "        text-align: right;\n",
       "    }\n",
       "</style>\n",
       "<table border=\"1\" class=\"dataframe\">\n",
       "  <thead>\n",
       "    <tr style=\"text-align: right;\">\n",
       "      <th></th>\n",
       "      <th>docId</th>\n",
       "      <th>title</th>\n",
       "      <th>category</th>\n",
       "      <th>embed[].0</th>\n",
       "      <th>embed[].1</th>\n",
       "      <th>embed[].2</th>\n",
       "      <th>embed[].3</th>\n",
       "      <th>embed[].4</th>\n",
       "      <th>embed[].5</th>\n",
       "      <th>embed[].6</th>\n",
       "      <th>...</th>\n",
       "      <th>umap_1</th>\n",
       "      <th>umap_2</th>\n",
       "      <th>umap_3</th>\n",
       "      <th>umap_4</th>\n",
       "      <th>umap_5</th>\n",
       "      <th>umap_6</th>\n",
       "      <th>umap_7</th>\n",
       "      <th>umap_8</th>\n",
       "      <th>umap_9</th>\n",
       "      <th>cluster_labels</th>\n",
       "    </tr>\n",
       "  </thead>\n",
       "  <tbody>\n",
       "    <tr>\n",
       "      <th>49798</th>\n",
       "      <td>1808.0726</td>\n",
       "      <td>On an improvement of LASSO by scaling</td>\n",
       "      <td>stat.ML</td>\n",
       "      <td>0.002325</td>\n",
       "      <td>-0.001465</td>\n",
       "      <td>-0.00217</td>\n",
       "      <td>0.001215</td>\n",
       "      <td>-0.002538</td>\n",
       "      <td>0.002546</td>\n",
       "      <td>-0.000273</td>\n",
       "      <td>...</td>\n",
       "      <td>4.031207</td>\n",
       "      <td>3.787616</td>\n",
       "      <td>3.609304</td>\n",
       "      <td>5.304809</td>\n",
       "      <td>4.780702</td>\n",
       "      <td>5.380967</td>\n",
       "      <td>5.013962</td>\n",
       "      <td>4.745392</td>\n",
       "      <td>4.801008</td>\n",
       "      <td>3</td>\n",
       "    </tr>\n",
       "  </tbody>\n",
       "</table>\n",
       "<p>1 rows × 144 columns</p>\n",
       "</div>"
      ],
      "text/plain": [
       "           docId                                  title category  embed[].0  \\\n",
       "49798  1808.0726  On an improvement of LASSO by scaling  stat.ML   0.002325   \n",
       "\n",
       "       embed[].1  embed[].2  embed[].3  embed[].4  embed[].5  embed[].6  ...  \\\n",
       "49798  -0.001465   -0.00217   0.001215  -0.002538   0.002546  -0.000273  ...   \n",
       "\n",
       "         umap_1    umap_2    umap_3    umap_4    umap_5    umap_6    umap_7  \\\n",
       "49798  4.031207  3.787616  3.609304  5.304809  4.780702  5.380967  5.013962   \n",
       "\n",
       "         umap_8    umap_9  cluster_labels  \n",
       "49798  4.745392  4.801008               3  \n",
       "\n",
       "[1 rows x 144 columns]"
      ]
     },
     "execution_count": 57,
     "metadata": {},
     "output_type": "execute_result"
    }
   ],
   "source": [
    "paper = data.sample(1)\n",
    "paper"
   ]
  },
  {
   "cell_type": "markdown",
   "id": "74a016f3-cc9b-4dc7-97da-ca1a8626fe64",
   "metadata": {},
   "source": [
    "**Title**: On an improvement of LASSO by scaling\n",
    "\n",
    "**Abstract**: A sparse modeling is a major topic in machine learning and statistics. LASSO (Least Absolute Shrinkage and Selection Operator) is a popular sparse modeling method while it has been known to yield unexpected large bias especially at a sparse representation. There have been several studies for improving this problem such as the introduction of non-convex regularization terms. The important point is that this bias problem directly affects model selection in applications since a sparse representation cannot be selected by a prediction error based model selection even if it is a good representation. In this article, we considered to improve this problem by introducing a scaling that expands LASSO estimator to compensate excessive shrinkage, thus a large bias in LASSO estimator. We here gave an empirical value for the amount of scaling. There are two advantages of this scaling method as follows. Since the proposed scaling value is calculated by using LASSO estimator, we only need LASSO estimator that is obtained by a fast and stable optimization procedure such as LARS (Least Angle Regression) under LASSO modification or coordinate descent. And, the simplicity of our scaling method enables us to derive SURE (Stein's Unbiased Risk Estimate) under the modified LASSO estimator with scaling. Our scaling method together with model selection based on SURE is fully empirical and do not need additional hyper-parameters. In a simple numerical example, we verified that our scaling method actually improves LASSO and the SURE based model selection criterion can stably choose an appropriate sparse model."
   ]
  },
  {
   "cell_type": "code",
   "execution_count": 58,
   "id": "5fe71a13-4ec8-4a73-b24c-fb2c6aabc9c0",
   "metadata": {},
   "outputs": [
    {
     "name": "stderr",
     "output_type": "stream",
     "text": [
      "/opt/homebrew/Caskroom/miniforge/base/envs/graphml/lib/python3.9/site-packages/sklearn/base.py:439: UserWarning: X does not have valid feature names, but NearestNeighbors was fitted with feature names\n",
      "  warnings.warn(\n"
     ]
    },
    {
     "data": {
      "text/html": [
       "<div>\n",
       "<style scoped>\n",
       "    .dataframe tbody tr th:only-of-type {\n",
       "        vertical-align: middle;\n",
       "    }\n",
       "\n",
       "    .dataframe tbody tr th {\n",
       "        vertical-align: top;\n",
       "    }\n",
       "\n",
       "    .dataframe thead th {\n",
       "        text-align: right;\n",
       "    }\n",
       "</style>\n",
       "<table border=\"1\" class=\"dataframe\">\n",
       "  <thead>\n",
       "    <tr style=\"text-align: right;\">\n",
       "      <th></th>\n",
       "      <th>Index</th>\n",
       "      <th>Distance</th>\n",
       "    </tr>\n",
       "  </thead>\n",
       "  <tbody>\n",
       "    <tr>\n",
       "      <th>0</th>\n",
       "      <td>49798</td>\n",
       "      <td>0.000000</td>\n",
       "    </tr>\n",
       "    <tr>\n",
       "      <th>1</th>\n",
       "      <td>33504</td>\n",
       "      <td>0.028014</td>\n",
       "    </tr>\n",
       "    <tr>\n",
       "      <th>2</th>\n",
       "      <td>49521</td>\n",
       "      <td>0.028994</td>\n",
       "    </tr>\n",
       "    <tr>\n",
       "      <th>3</th>\n",
       "      <td>6726</td>\n",
       "      <td>0.029053</td>\n",
       "    </tr>\n",
       "    <tr>\n",
       "      <th>4</th>\n",
       "      <td>35854</td>\n",
       "      <td>0.029207</td>\n",
       "    </tr>\n",
       "  </tbody>\n",
       "</table>\n",
       "</div>"
      ],
      "text/plain": [
       "   Index  Distance\n",
       "0  49798  0.000000\n",
       "1  33504  0.028014\n",
       "2  49521  0.028994\n",
       "3   6726  0.029053\n",
       "4  35854  0.029207"
      ]
     },
     "execution_count": 58,
     "metadata": {},
     "output_type": "execute_result"
    }
   ],
   "source": [
    "dist, idx = rec.kneighbors(data.loc[paper.index, node2vec_cols].values.reshape(-1, len(node2vec_cols)), n_neighbors=5)\n",
    "pd.DataFrame(\n",
    "    {\n",
    "        'Index': idx.ravel(),\n",
    "        'Distance': dist.ravel()\n",
    "    }\n",
    ")"
   ]
  },
  {
   "cell_type": "code",
   "execution_count": 59,
   "id": "4b322aa4-1036-47ee-b3d8-a09c9cd9367a",
   "metadata": {},
   "outputs": [
    {
     "name": "stdout",
     "output_type": "stream",
     "text": [
      "Selected paper:\n",
      "On an improvement of LASSO by scaling\n",
      " -- Recommendations -- \n",
      "Deep Learning Algorithms for Signal Recognition in Long Perimeter Monitoring Distributed Fiber Optic Sensors\n",
      "Learning Discriminative Hashing Codes for Cross-Modal Retrieval based on Multiorder Statistical Features\n",
      "Parameter Estimation for the Stochastically Perturbed Navier-Stokes Equations\n",
      "Two-stage Plant Species Recognition by Combining Local K-NN and Weighted Sparse Representation\n"
     ]
    }
   ],
   "source": [
    "for i, ii in enumerate(idx.ravel()):\n",
    "    if i == 0:\n",
    "        print(\"Selected paper:\")\n",
    "    if i == 1:\n",
    "        print(\" -- Recommendations -- \")\n",
    "    print(data.loc[ii, 'title'])"
   ]
  },
  {
   "cell_type": "markdown",
   "id": "80440f28-d2ee-40dd-a63e-532a6c8489c9",
   "metadata": {},
   "source": [
    "## Using 10 Dimensions from UMAP"
   ]
  },
  {
   "cell_type": "code",
   "execution_count": 60,
   "id": "97338dcc-9d32-47c3-8f2b-724163bd1d5e",
   "metadata": {},
   "outputs": [
    {
     "data": {
      "text/html": [
       "<style>#sk-container-id-9 {color: black;background-color: white;}#sk-container-id-9 pre{padding: 0;}#sk-container-id-9 div.sk-toggleable {background-color: white;}#sk-container-id-9 label.sk-toggleable__label {cursor: pointer;display: block;width: 100%;margin-bottom: 0;padding: 0.3em;box-sizing: border-box;text-align: center;}#sk-container-id-9 label.sk-toggleable__label-arrow:before {content: \"▸\";float: left;margin-right: 0.25em;color: #696969;}#sk-container-id-9 label.sk-toggleable__label-arrow:hover:before {color: black;}#sk-container-id-9 div.sk-estimator:hover label.sk-toggleable__label-arrow:before {color: black;}#sk-container-id-9 div.sk-toggleable__content {max-height: 0;max-width: 0;overflow: hidden;text-align: left;background-color: #f0f8ff;}#sk-container-id-9 div.sk-toggleable__content pre {margin: 0.2em;color: black;border-radius: 0.25em;background-color: #f0f8ff;}#sk-container-id-9 input.sk-toggleable__control:checked~div.sk-toggleable__content {max-height: 200px;max-width: 100%;overflow: auto;}#sk-container-id-9 input.sk-toggleable__control:checked~label.sk-toggleable__label-arrow:before {content: \"▾\";}#sk-container-id-9 div.sk-estimator input.sk-toggleable__control:checked~label.sk-toggleable__label {background-color: #d4ebff;}#sk-container-id-9 div.sk-label input.sk-toggleable__control:checked~label.sk-toggleable__label {background-color: #d4ebff;}#sk-container-id-9 input.sk-hidden--visually {border: 0;clip: rect(1px 1px 1px 1px);clip: rect(1px, 1px, 1px, 1px);height: 1px;margin: -1px;overflow: hidden;padding: 0;position: absolute;width: 1px;}#sk-container-id-9 div.sk-estimator {font-family: monospace;background-color: #f0f8ff;border: 1px dotted black;border-radius: 0.25em;box-sizing: border-box;margin-bottom: 0.5em;}#sk-container-id-9 div.sk-estimator:hover {background-color: #d4ebff;}#sk-container-id-9 div.sk-parallel-item::after {content: \"\";width: 100%;border-bottom: 1px solid gray;flex-grow: 1;}#sk-container-id-9 div.sk-label:hover label.sk-toggleable__label {background-color: #d4ebff;}#sk-container-id-9 div.sk-serial::before {content: \"\";position: absolute;border-left: 1px solid gray;box-sizing: border-box;top: 0;bottom: 0;left: 50%;z-index: 0;}#sk-container-id-9 div.sk-serial {display: flex;flex-direction: column;align-items: center;background-color: white;padding-right: 0.2em;padding-left: 0.2em;position: relative;}#sk-container-id-9 div.sk-item {position: relative;z-index: 1;}#sk-container-id-9 div.sk-parallel {display: flex;align-items: stretch;justify-content: center;background-color: white;position: relative;}#sk-container-id-9 div.sk-item::before, #sk-container-id-9 div.sk-parallel-item::before {content: \"\";position: absolute;border-left: 1px solid gray;box-sizing: border-box;top: 0;bottom: 0;left: 50%;z-index: -1;}#sk-container-id-9 div.sk-parallel-item {display: flex;flex-direction: column;z-index: 1;position: relative;background-color: white;}#sk-container-id-9 div.sk-parallel-item:first-child::after {align-self: flex-end;width: 50%;}#sk-container-id-9 div.sk-parallel-item:last-child::after {align-self: flex-start;width: 50%;}#sk-container-id-9 div.sk-parallel-item:only-child::after {width: 0;}#sk-container-id-9 div.sk-dashed-wrapped {border: 1px dashed gray;margin: 0 0.4em 0.5em 0.4em;box-sizing: border-box;padding-bottom: 0.4em;background-color: white;}#sk-container-id-9 div.sk-label label {font-family: monospace;font-weight: bold;display: inline-block;line-height: 1.2em;}#sk-container-id-9 div.sk-label-container {text-align: center;}#sk-container-id-9 div.sk-container {/* jupyter's `normalize.less` sets `[hidden] { display: none; }` but bootstrap.min.css set `[hidden] { display: none !important; }` so we also need the `!important` here to be able to override the default hidden behavior on the sphinx rendered scikit-learn.org. See: https://github.com/scikit-learn/scikit-learn/issues/21755 */display: inline-block !important;position: relative;}#sk-container-id-9 div.sk-text-repr-fallback {display: none;}</style><div id=\"sk-container-id-9\" class=\"sk-top-container\"><div class=\"sk-text-repr-fallback\"><pre>NearestNeighbors(n_neighbors=20)</pre><b>In a Jupyter environment, please rerun this cell to show the HTML representation or trust the notebook. <br />On GitHub, the HTML representation is unable to render, please try loading this page with nbviewer.org.</b></div><div class=\"sk-container\" hidden><div class=\"sk-item\"><div class=\"sk-estimator sk-toggleable\"><input class=\"sk-toggleable__control sk-hidden--visually\" id=\"sk-estimator-id-11\" type=\"checkbox\" checked><label for=\"sk-estimator-id-11\" class=\"sk-toggleable__label sk-toggleable__label-arrow\">NearestNeighbors</label><div class=\"sk-toggleable__content\"><pre>NearestNeighbors(n_neighbors=20)</pre></div></div></div></div></div>"
      ],
      "text/plain": [
       "NearestNeighbors(n_neighbors=20)"
      ]
     },
     "execution_count": 60,
     "metadata": {},
     "output_type": "execute_result"
    }
   ],
   "source": [
    "rec = NearestNeighbors(n_neighbors=20)\n",
    "rec.fit(data.loc[:, umap_cols])"
   ]
  },
  {
   "cell_type": "code",
   "execution_count": 61,
   "id": "a912b68c-73f7-4bdc-84bf-7c4bc0acbacc",
   "metadata": {},
   "outputs": [
    {
     "name": "stderr",
     "output_type": "stream",
     "text": [
      "/opt/homebrew/Caskroom/miniforge/base/envs/graphml/lib/python3.9/site-packages/sklearn/base.py:439: UserWarning: X does not have valid feature names, but NearestNeighbors was fitted with feature names\n",
      "  warnings.warn(\n"
     ]
    },
    {
     "data": {
      "text/html": [
       "<div>\n",
       "<style scoped>\n",
       "    .dataframe tbody tr th:only-of-type {\n",
       "        vertical-align: middle;\n",
       "    }\n",
       "\n",
       "    .dataframe tbody tr th {\n",
       "        vertical-align: top;\n",
       "    }\n",
       "\n",
       "    .dataframe thead th {\n",
       "        text-align: right;\n",
       "    }\n",
       "</style>\n",
       "<table border=\"1\" class=\"dataframe\">\n",
       "  <thead>\n",
       "    <tr style=\"text-align: right;\">\n",
       "      <th></th>\n",
       "      <th>Index</th>\n",
       "      <th>Distance</th>\n",
       "    </tr>\n",
       "  </thead>\n",
       "  <tbody>\n",
       "    <tr>\n",
       "      <th>0</th>\n",
       "      <td>49798</td>\n",
       "      <td>0.000000</td>\n",
       "    </tr>\n",
       "    <tr>\n",
       "      <th>1</th>\n",
       "      <td>49903</td>\n",
       "      <td>0.141386</td>\n",
       "    </tr>\n",
       "    <tr>\n",
       "      <th>2</th>\n",
       "      <td>41519</td>\n",
       "      <td>0.199056</td>\n",
       "    </tr>\n",
       "    <tr>\n",
       "      <th>3</th>\n",
       "      <td>19802</td>\n",
       "      <td>0.286871</td>\n",
       "    </tr>\n",
       "    <tr>\n",
       "      <th>4</th>\n",
       "      <td>13285</td>\n",
       "      <td>0.417143</td>\n",
       "    </tr>\n",
       "  </tbody>\n",
       "</table>\n",
       "</div>"
      ],
      "text/plain": [
       "   Index  Distance\n",
       "0  49798  0.000000\n",
       "1  49903  0.141386\n",
       "2  41519  0.199056\n",
       "3  19802  0.286871\n",
       "4  13285  0.417143"
      ]
     },
     "execution_count": 61,
     "metadata": {},
     "output_type": "execute_result"
    }
   ],
   "source": [
    "dist, idx = rec.kneighbors(data.loc[paper.index, umap_cols].values.reshape(-1, len(umap_cols)), n_neighbors=5)\n",
    "pd.DataFrame(\n",
    "    {\n",
    "        'Index': idx.ravel(),\n",
    "        'Distance': dist.ravel()\n",
    "    }\n",
    ")"
   ]
  },
  {
   "cell_type": "code",
   "execution_count": 62,
   "id": "dc6d116c-8be1-4a87-9365-6c84248ad2cf",
   "metadata": {},
   "outputs": [
    {
     "name": "stdout",
     "output_type": "stream",
     "text": [
      "Selected paper:\n",
      "On an improvement of LASSO by scaling\n",
      " -- Recommendations -- \n",
      "Bayesian Hypothesis Testing: Redux\n",
      "A Parallel Best-Response Algorithm with Exact Line Search for Nonconvex Sparsity-Regularized Rank Minimization\n",
      "Stochastic First- and Zeroth-order Methods for Nonconvex Stochastic Programming\n",
      "Variance components and generalized Sobol' indices\n"
     ]
    }
   ],
   "source": [
    "for i, ii in enumerate(idx.ravel()):\n",
    "    if i == 0:\n",
    "        print(\"Selected paper:\")\n",
    "    if i == 1:\n",
    "        print(\" -- Recommendations -- \")\n",
    "    print(data.loc[ii, 'title'])"
   ]
  },
  {
   "cell_type": "code",
   "execution_count": null,
   "id": "ef2091dd-e830-4329-8228-cbccf33cdd04",
   "metadata": {},
   "outputs": [],
   "source": []
  }
 ],
 "metadata": {
  "kernelspec": {
   "display_name": "Python [conda env:graphml]",
   "language": "python",
   "name": "conda-env-graphml-py"
  },
  "language_info": {
   "codemirror_mode": {
    "name": "ipython",
    "version": 3
   },
   "file_extension": ".py",
   "mimetype": "text/x-python",
   "name": "python",
   "nbconvert_exporter": "python",
   "pygments_lexer": "ipython3",
   "version": "3.9.16"
  }
 },
 "nbformat": 4,
 "nbformat_minor": 5
}
